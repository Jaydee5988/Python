{
 "cells": [
  {
   "cell_type": "code",
   "execution_count": 5,
   "id": "62bb61f0-5085-4760-aaed-c019443663bc",
   "metadata": {},
   "outputs": [
    {
     "name": "stdout",
     "output_type": "stream",
     "text": [
      "No. of vowels : 12\n"
     ]
    }
   ],
   "source": [
    "#Python3 code to count vowel in \n",
    "# a string using set\n",
    "  \n",
    "# Function to count vowel\n",
    "def vowel_count(str):\n",
    "      \n",
    "    # Initializing count variable to 0\n",
    "    count = 0\n",
    "      \n",
    "    # Creating a set of vowels\n",
    "    vowel = set(\"aeiouAEIOU\")\n",
    "      \n",
    "    # Loop to traverse the alphabet\n",
    "    # in the given string\n",
    "    for alphabet in str:\n",
    "      \n",
    "        # If alphabet is present\n",
    "        # in set vowel\n",
    "        if alphabet in vowel:\n",
    "            count = count + 1\n",
    "      \n",
    "    print(\"No. of vowels :\", count)\n",
    "      \n",
    "# Driver code \n",
    "str = \"a big dog named timmy aaaaaa\"\n",
    "  \n",
    "# Function Call\n",
    "vowel_count(str)\n",
    "  "
   ]
  }
 ],
 "metadata": {
  "kernelspec": {
   "display_name": "Python 3 (ipykernel)",
   "language": "python",
   "name": "python3"
  },
  "language_info": {
   "codemirror_mode": {
    "name": "ipython",
    "version": 3
   },
   "file_extension": ".py",
   "mimetype": "text/x-python",
   "name": "python",
   "nbconvert_exporter": "python",
   "pygments_lexer": "ipython3",
   "version": "3.9.12"
  }
 },
 "nbformat": 4,
 "nbformat_minor": 5
}
